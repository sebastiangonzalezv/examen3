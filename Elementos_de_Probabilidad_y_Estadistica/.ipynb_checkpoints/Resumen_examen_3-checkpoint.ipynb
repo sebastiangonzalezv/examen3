{
 "cells": [
  {
   "cell_type": "markdown",
   "metadata": {
    "jupyter": {
     "source_hidden": true
    }
   },
   "source": [
    "# Random variable\n",
    "A **random variable** is a variable that assumes numerical values associated with the random\n",
    "outcome of an experiment, where one (and only one) numerical value is assigned to each sample point."
   ]
  },
  {
   "cell_type": "markdown",
   "metadata": {},
   "source": [
    "# Probability mass function (pmf)\n",
    "The pmf specifies the probability associated with each possible outcome the random variable can assume.<br>\n",
    "$ P(X =x)=f(x)$<br>\n",
    "## Conditions of pmf for a discrete\n",
    "* $f(x_i)\\geq 0$<br>\n",
    "* $\\sum_{i=1}^{k}{f(x_i)} = 1 \\forall k \\in \\mathbb{S}$<br>\n",
    "* $f(x_i) = P(X=x_i)$<br>"
   ]
  },
  {
   "cell_type": "markdown",
   "metadata": {},
   "source": [
    "# Cumulative distribution function (cdf)\n",
    "cdf specifies for distribution function of f(x) , is the probability that x  will take a value less than or equal to x.<br>\n",
    "* $F(x)=P(X \\leq x)$<br>\n",
    "* $F(- \\infty ) = 0$<br>\n",
    "* $F(\\infty ) = 1$<br>\n",
    "* $F(X)$ is monotonically increasing in x <br>"
   ]
  },
  {
   "cell_type": "markdown",
   "metadata": {},
   "source": [
    "# Expected value\n",
    "The mean, or expected value, of a discrete random variable is\n",
    "$E(X)=\\mu= \\sum_{i=1}^{n}{x_if(x_i)}$<br>\n",
    "## The Expected Value of a Function\n",
    "$E[h(X)]=\\mu_h(X)= \\sum_{i=1}^{n}{h(x_i)f(x_i)}$<br>\n",
    "## Rules of expected value\n",
    "$E[aX + b]=a\\cdot E(X)+b$<br>"
   ]
  },
  {
   "cell_type": "markdown",
   "metadata": {},
   "source": [
    "# Variance and standard deviation\n",
    "The variance and standard deviation for a discrete random variable are given by:<br>\n",
    "$Var(X) = \\sigma^2 = \\sum_{i\\in D}{(x_i-\\mu)^2f(x_i)}$<br>\n",
    "$Var(X) = \\sigma^2 = E(X^2)-[E(X)]^2$<br>\n",
    "$sd(X) = \\sqrt{Var(X)}$\n",
    "## Rules of variance\n",
    "$Var(aX+b) =a^2\\cdot Var(X)$"
   ]
  },
  {
   "cell_type": "markdown",
   "metadata": {},
   "source": [
    "# Discrete Distribution"
   ]
  },
  {
   "cell_type": "markdown",
   "metadata": {},
   "source": [
    "## Discrete Uniform Distribution\n",
    "Let be a discrete uniform random variable assuming integer numbers from to. Therefore, the pmf is given by<br>\n",
    "$P(X=x)=f(x) \\frac{1}{b-a+1}$<br>\n",
    "<img src=\"https://www.researchgate.net/profile/Reza_Sirjani/publication/319932351/figure/fig2/AS:540767150379008@1505940343557/Probability-mass-function-of-discrete-uniform-distribution.png\"><br>\n",
    "### Notation\n",
    "$X\\sim U_{discrete}(a,b)$<br>\n",
    "### Expected value and variance\n",
    "$E(X)=\\frac{b+a}{2}$<br>\n",
    "$V(X)=\\frac{(b-a+1)^2-1}{12}$<br>"
   ]
  },
  {
   "cell_type": "markdown",
   "metadata": {},
   "source": [
    "# Bernoulli experiments\n",
    "Experiments with only two results must have:\n",
    "1. Fixed number of trials (n).\n",
    "2. Each trial is termed a **success** or **failure**. $X$ is the # of successes.\n",
    "3. The probability of success in each trial is **constant** (p)."
   ]
  },
  {
   "cell_type": "markdown",
   "metadata": {},
   "source": [
    "## Binomial distribution\n",
    "A binomial random variable is the number of successes **X** in **n** repeated trials of a binomial experiment. The pmf is given by<br>\n",
    "$P(X=x) = f(x) = \\binom{n}{x}p^x(1-p)^{n-x}$<br>\n",
    "**p** is the probability of success on an individual trial.\n",
    "### Notation\n",
    "$X\\sim B(n,b)$<br>\n",
    "### Expected value and variance\n",
    "$E(x)=n\\cdot p$<br>\n",
    "$V(x)=n\\cdot p \\cdot (1-p)$<br>"
   ]
  },
  {
   "cell_type": "markdown",
   "metadata": {},
   "source": [
    "## Geometric distribution\n",
    "What is the probability that occurs $X$ fails to obtain the first success?<br>\n",
    "In a series of Bernoulli trials, let the random variable X denote the number of fails before the first success. Then is a geometric random variable with parameter and its pmf<br>\n",
    "$P(X=x) = f(x) = p(1-p)^x$<br>\n",
    "### Notation\n",
    "$X\\sim Geo(p)$<br>\n",
    "### Expected value and variance\n",
    "$E(x)=\\frac{1-p}{p}$<br>\n",
    "$V(x)=\\frac{1-p}{p^2}$<br>"
   ]
  },
  {
   "cell_type": "markdown",
   "metadata": {},
   "source": [
    "## Negative Binomial\n",
    "What is the probability that occurs $x$ fails to obtain the $r$ successes?\n",
    "In a series of Bernoulli trial, let the random variable X denote **the number of fails** until the $r^{th}$ success occur. Then is a **negative binomial\n",
    "random variable** with pmf given <br>\n",
    "$P(X=x) = f(x) =\\binom{x+r-1}{r-1}p^r(1-p)^x$<br>\n",
    "### Notation\n",
    "$X\\sim BN(r,p)$<br>\n",
    "### Expected value and variance\n",
    "$E(x)=\\frac{r(1-p}{p}$<br>\n",
    "$V(x)=\\frac{r(1-p}{p^2}$<br>\n"
   ]
  },
  {
   "cell_type": "markdown",
   "metadata": {},
   "source": [
    "## from Differences Bernoullis binomials distribution\n",
    "* Binomial distribution:\n",
    "    * Fixed number of trials $n$.\n",
    "    * Random number of successes $X$\n",
    "* Geometric distribution has reversed roles:\n",
    "    * Fixed number of successes, in this case 1.\n",
    "    * Random number of trials $X$.\n",
    "* Negative binomial distribution:\n",
    "    * Fixed number of successes $r$\n",
    "    * Random number of trials $X$."
   ]
  },
  {
   "cell_type": "markdown",
   "metadata": {},
   "source": [
    "# Hypergeometric Distribution\n",
    "What is the probability to obtain $x$ success in a sample with $k$ elements?\n",
    "* Applies to sampling without replacement.\n",
    "* Trials are not independent.\n",
    "* A set of m+n objects contains:\n",
    "    * $m$ objects classified as success\n",
    "    * $n$ objects classified as failures\n",
    "* A sample of size $k$ objects is selected without replacement from the $m+n$ objects.\n",
    "The pmf for a hypergeometric random variable is given by<br>\n",
    "$P(X=x)=f(x) = \\frac{\\binom{m}{x}\\binom{n}{k-x}}{\\binom{m+n}{k}} \\quad\\forall\\quad max(0,k-n) \\leq x \\leq min(k,m)$\n",
    "## Notation\n",
    "$X\\sim h(m,n,k)$<br>\n",
    "## Expected value and variance\n",
    "$E(x)=k \\frac{m}{m+n}$<br>\n",
    "$V(x)= k\\frac{m}{m+n}(1-\\frac{m}{m+n})\\frac{m+n-k}{m+n-1}$<br>"
   ]
  },
  {
   "cell_type": "markdown",
   "metadata": {},
   "source": [
    "# Poisson Distribution\n",
    "The Poisson probability distribution is used to describe discrete events, such as number of events per interval.<br>\n",
    "In general, the Poisson random variable $X$ is the number of events (counts) per interval.<br>\n",
    "The random variable $X$ that equals the number of events in a Poisson process is a Poisson random variable with parameter $\\lambda > 0$, and the probability mass function is:<br>\n",
    "$P(X=x) = f(x) = \\frac{e^{-\\lambda}\\lambda^x}{x!} \\forall \\lambda= \\frac{\\text{number of event}}{\\text{ncount}}$\n",
    "## Notation\n",
    "$X\\sim tPoisson(\\lambda)$<br>\n",
    "## Expected value and variance\n",
    "$E(x)=\\lambda$<br>\n",
    "$V(x)= \\lambda)$<br>"
   ]
  },
  {
   "cell_type": "code",
   "execution_count": null,
   "metadata": {},
   "outputs": [],
   "source": []
  }
 ],
 "metadata": {
  "kernelspec": {
   "display_name": "Python 3",
   "language": "python",
   "name": "python3"
  },
  "language_info": {
   "codemirror_mode": {
    "name": "ipython",
    "version": 3
   },
   "file_extension": ".py",
   "mimetype": "text/x-python",
   "name": "python",
   "nbconvert_exporter": "python",
   "pygments_lexer": "ipython3",
   "version": "3.8.3"
  }
 },
 "nbformat": 4,
 "nbformat_minor": 4
}
