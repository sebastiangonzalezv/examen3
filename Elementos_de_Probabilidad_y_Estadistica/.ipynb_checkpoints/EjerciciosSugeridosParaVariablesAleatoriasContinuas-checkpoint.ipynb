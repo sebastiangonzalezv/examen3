{
 "cells": [
  {
   "cell_type": "markdown",
   "metadata": {},
   "source": [
    "# Ejercicios sugeridos para variables aleatorias continuas"
   ]
  },
  {
   "cell_type": "markdown",
   "metadata": {},
   "source": [
    "1. Denote la cantidad de tiempo en horas que un libro particular dura prestado dentro de la biblioteca de la universidad. La función de densidad de probabilidad de X está dada por\n",
    "$$\n",
    "f(x) =\n",
    "\\begin{cases}\n",
    "    0.5x + 0.25 &\\quad 1 \\leq x \\leq 2\\\\\n",
    "    0 &\\quad \\text{de otro modo}\n",
    "\\end{cases}\n",
    "$$\n",
    "* Dibuje la función de densidad de probabilidad.<br>\n",
    "* $P(X<1.5)$<br>\n",
    "* $P(1.2<X<1.7)$<br>\n",
    "* ¿Cuál es el tiempo promedio que un libro permanece prestado?"
   ]
  },
  {
   "cell_type": "code",
   "execution_count": 2,
   "metadata": {},
   "outputs": [],
   "source": [
    "import scipy.stats as st\n",
    "import numpy as np\n",
    "import matplotlib.pyplot as plt\n",
    "import seaborn as sns\n",
    "import sympy"
   ]
  },
  {
   "cell_type": "code",
   "execution_count": 3,
   "metadata": {},
   "outputs": [
    {
     "data": {
      "image/png": "[encoded data removed]",
      "text/plain": [
       "<Figure size 432x288 with 1 Axes>"
      ]
     },
     "metadata": {
      "needs_background": "light"
     },
     "output_type": "display_data"
    }
   ],
   "source": [
    "x_plot = np.arange(1, 2, 0.001)\n",
    "y_plot = 0.5*x_plot+0.25\n",
    "plt.plot(x_plot,y_plot)\n",
    "plt.show()"
   ]
  },
  {
   "cell_type": "code",
   "execution_count": 4,
   "metadata": {},
   "outputs": [
    {
     "name": "stdout",
     "output_type": "stream",
     "text": [
      "0.437500000000000\n",
      "0.487500000000000\n",
      "1.54166666666667\n"
     ]
    }
   ],
   "source": [
    "x = sympy.Symbol('x')\n",
    "prob_les_1_5 = sympy.integrate(0.5*x+ 0.25, (x,1,1.5))\n",
    "print(prob_les_1_5)\n",
    "prob_1_2_to_1_7 = sympy.integrate(0.5*x+ 0.25, (x,1.2,1.7))\n",
    "print(prob_1_2_to_1_7)\n",
    "e = sympy.integrate(x*(0.5*x+ 0.25), (x,1,2))\n",
    "print(e)"
   ]
  },
  {
   "cell_type": "markdown",
   "metadata": {},
   "source": [
    "2. La vida útil(en miles de kilómetros) de una llanta es una v.a. cuya fdp está dada por $f(x)=\\frac{1}{30}e^{\\frac{-x}{30}}$ para x>0<br>\n",
    "* Dibuje la función de densidad de probabilidad.<br>\n",
    "* $P(X<15)$<br>\n",
    "* $P(X<20)$<br>\n",
    "* ¿Cuál es la duración promedio de una llanta?<br>\n",
    "* ¿Cuál es la desviación estándar de la duración de una llanta?"
   ]
  },
  {
   "cell_type": "code",
   "execution_count": 5,
   "metadata": {},
   "outputs": [
    {
     "data": {
      "image/png": "[encoded data removed]",
      "text/plain": [
       "<Figure size 432x288 with 1 Axes>"
      ]
     },
     "metadata": {
      "needs_background": "light"
     },
     "output_type": "display_data"
    }
   ],
   "source": [
    "x_plot = np.arange(0, 200, 0.001)\n",
    "y_plot = (1/30)*np.exp(-x_plot/30)\n",
    "plt.plot(x_plot,y_plot)\n",
    "plt.show()"
   ]
  },
  {
   "cell_type": "code",
   "execution_count": 6,
   "metadata": {},
   "outputs": [
    {
     "name": "stdout",
     "output_type": "stream",
     "text": [
      "0.437500000000000\n",
      "1.0*exp(-2/3) = 0.513417119032592\n",
      "30.0000000000000\n",
      "900.000000000000\n",
      "30.0000000000000\n"
     ]
    }
   ],
   "source": [
    "x = sympy.Symbol('x')\n",
    "prob_les_15 = sympy.integrate((1/30)*sympy.exp(-x/30), (x,0,15))\n",
    "print(prob_les_1_5)\n",
    "prob_more_20 = sympy.integrate((1/30)*sympy.exp(-x/30), (x,20, sympy.oo))\n",
    "print('{} = {}'.format(prob_more_20, float(prob_more_20)))\n",
    "e = sympy.integrate(x*(1/30)*sympy.exp(-x/30), (x,0,sympy.oo))\n",
    "print(e)\n",
    "v = sympy.integrate(((x-e)**2)*(1/30)*sympy.exp(-x/30), (x,0,sympy.oo))\n",
    "print(v)\n",
    "std = sympy.sqrt(v)\n",
    "print(std)"
   ]
  },
  {
   "cell_type": "markdown",
   "metadata": {},
   "source": [
    "3. El tiempo necesario para que un estudiante complete un examen de una hora es una variable aleatoria con fdp dada por:<br>\n",
    "$$\n",
    "f(x) =\n",
    "\\begin{cases}\n",
    "    c\\cdot y^2 +y &\\quad 0 \\leq x \\leq 1\\\\\n",
    "    0 &\\quad \\text{de otro punto}\n",
    "\\end{cases}\n",
    "$$\n",
    "* Encuentre el valor de la constante ܿ para que la función sea un fdp.<br>\n",
    "* Encuentre $F(y)$"
   ]
  },
  {
   "cell_type": "code",
   "execution_count": 49,
   "metadata": {},
   "outputs": [
    {
     "name": "stdout",
     "output_type": "stream",
     "text": [
      "[3/2]\n",
      "0.5*y**3 + 0.5*y**2\n"
     ]
    }
   ],
   "source": [
    "y = sympy.Symbol('y')\n",
    "c = sympy.Symbol('c')\n",
    "c_value = sympy.solve(sympy.integrate(c*y**2+y, (y,0,1))-1,c)\n",
    "print(c_value)\n",
    "F = sympy.integrate((3/2)*y**2+y, y)\n",
    "print(F)"
   ]
  },
  {
   "cell_type": "markdown",
   "metadata": {},
   "source": [
    "9. Para medir los conocimientos sobre cierta materia en una misma población, se utilizan dos tipos de pruebas, A y B. Los resultados en ambas tienen distribución normal y la media de los resultados en la prueba A es 78.3 con una desviación estándar de 4.2 puntos. La media de las puntuaciones en la prueba B es 58.1 y su desviación estándar de 3.2 puntos. Una persona ha obtenido 83.1 puntos en la prueba A y otra persona ha conseguido 67.5 en la prueba B. ¿Cuál de las dos personas se encuentra en mejor posición?"
   ]
  },
  {
   "cell_type": "code",
   "execution_count": 7,
   "metadata": {},
   "outputs": [
    {
     "name": "stdout",
     "output_type": "stream",
     "text": [
      "0.873451045526442\n",
      "0.9983456491404525\n"
     ]
    }
   ],
   "source": [
    "print(st.norm(78.3, 4.2).cdf(83.1))\n",
    "print(st.norm(58.1, 3.2).cdf(67.5))"
   ]
  },
  {
   "cell_type": "markdown",
   "metadata": {},
   "source": [
    "13. Averigüe el valor z que corresponde a cada área descrita:<br>\n",
    "a) El 70% de los elementos está a la derecha de este valor z.<br>\n",
    "b) El 20% de los elementos se encuentra a la izquierda de este valor z.<br>\n",
    "c) El 10% de los elementos es mayor que este valor z.<br>\n",
    "d) El 60% de los elementos es menor que este valor z.<br>\n",
    "e) El 50% de los elementos se encuentran a la derecha de este valor z<br>\n",
    "f) El 30% de los elementos se encuentran a la izquierda de este valor z<br>"
   ]
  },
  {
   "cell_type": "code",
   "execution_count": 32,
   "metadata": {},
   "outputs": [
    {
     "name": "stdout",
     "output_type": "stream",
     "text": [
      "a: -0.5244005127080407\n",
      "b: -0.8416212335729143\n",
      "c: 1.2815515655446004\n",
      "d: 0.2533471031357997\n",
      "e: 0.0\n"
     ]
    }
   ],
   "source": [
    "# a\n",
    "print('a: {}'.format(-st.norm.ppf(0.7)))\n",
    "# b\n",
    "print('b: {}'.format(-st.norm.ppf(1-0.2)))\n",
    "# c\n",
    "print('c: {}'.format(-st.norm.ppf(0.1)))\n",
    "# d \n",
    "print('d: {}'.format(-st.norm.ppf(1-0.6)))\n",
    "# e\n",
    "print('e: {}'.format(st.norm.ppf(0.5)))\n",
    "# f\n",
    "print('e: {}'.format(st.norm.ppf(0.5)))"
   ]
  },
  {
   "cell_type": "markdown",
   "metadata": {},
   "source": [
    "13. La duración de un determinado tipo de lavadora automática tiene una distribución normal, con una media de 3.1 años y una desviación estándar de 1.2 años. La compañía ofrece en su garantía que si la lavadora presenta algún defecto será reemplazada.<br>\n",
    "a) Describa gráficamente esta distribución en particular.<br>\n",
    "b) Si la lavadora está garantizada por un año, ¿qué proporción del total de unidades vendidas tendrá que ser reemplazada?<br>\n",
    "c) Si el fabricante de las lavadoras está dispuesto a reemplazar sólo el 3% de las lavadoras que vende. ¿Por cuántos meses debe ofrecer la garantía para asegurar que no más de un 3% de las lavadoras tendrá que ser reemplazada?<br>\n",
    "d) ¿Qué porcentaje de las lavadoras vendidas van a durar entre 3 y 6 años?"
   ]
  },
  {
   "cell_type": "code",
   "execution_count": 49,
   "metadata": {},
   "outputs": [
    {
     "data": {
      "image/png": "[encoded data removed]",
      "text/plain": [
       "<Figure size 864x432 with 1 Axes>"
      ]
     },
     "metadata": {
      "needs_background": "light"
     },
     "output_type": "display_data"
    },
    {
     "name": "stdout",
     "output_type": "stream",
     "text": [
      "la probabilidad de que una labadora sea replazada por garantia es 4.01%\n",
      "el fabricante deberia dar 0.843 años de garantia para que solo se le aplique al 3% de su producto\n",
      "el 52.54% de las lavadoras duraran entre 3 y 6 años\n"
     ]
    }
   ],
   "source": [
    "fig = plt.figure(figsize=(12, 6))\n",
    "ax1 = fig.add_subplot(111)\n",
    "x = np.arange(0, 6.7, 0.001)\n",
    "y = st.norm(3.1,1.2).pdf(x)\n",
    "ax1.plot(x, y)\n",
    "plt.show()\n",
    "print('la probabilidad de que una labadora sea replazada por garantia es {:.2f}%'.format(st.norm(3.1,1.2).cdf(1)*100))\n",
    "print('el fabricante deberia dar {:.3f} años de garantia para que solo se le aplique al 3% de su producto'.format(st.norm(3.1,1.2).ppf(0.03)))\n",
    "print('el {:.2f}% de las lavadoras duraran entre 3 y 6 años'.format((st.norm(3.1,1.2).cdf(6)-st.norm(3.1,1.2).cdf(3))*100))\n"
   ]
  },
  {
   "cell_type": "markdown",
   "metadata": {},
   "source": [
    "15. El consumo promedio de combustible de una flota de 1000 camiones sigue una distribución normal con una media de 12 millas por galón y una desviación estándar de 2 millas por galón. Escriba las instrucciones en R para calcular cada una de las siguientes probabilidades.<br>\n",
    "a) ¿Cuántos camiones tendrán un promedio de 11 millas o más por galón?<br>\n",
    "b) ¿Cuántos camiones tendrán un promedio de menos de 10 millas por galón?<br>\n",
    "c) ¿Cuántos camiones tendrán un promedio entre 9.5 y 14 millas por galón?<br>\n",
    "d) Averigüe la probabilidad de que un camión elegido al azar tenga un promedio de 13.5 millas por galón o más.<br>\n",
    "e) ¿El 70% de los camiones tuvo un promedio más alto que cuántas millas por galón?<br>\n",
    "f) ¿El 10% de los camiones tuvo un promedio menor que cuántas millas por galón?"
   ]
  },
  {
   "cell_type": "code",
   "execution_count": 59,
   "metadata": {},
   "outputs": [
    {
     "name": "stdout",
     "output_type": "stream",
     "text": [
      "691.4624612740131\n",
      "158.65525393145708\n",
      "735.6949724016876\n",
      "0.22662735237686826\n",
      "10.951198974583917\n",
      "9.4368968689108\n"
     ]
    }
   ],
   "source": [
    "# a\n",
    "print((1-st.norm(12,2).cdf(11))*1000)\n",
    "# b\n",
    "print((st.norm(12,2).cdf(10))*1000)\n",
    "# c\n",
    "print((st.norm(12,2).cdf(14)-st.norm(12,2).cdf(9.5))*1000)\n",
    "# d\n",
    "print(1-st.norm(12,2).cdf(13.5))\n",
    "# e\n",
    "print(st.norm(12,2).ppf(0.3))\n",
    "# f\n",
    "print(st.norm(12,2).ppf(0.1))"
   ]
  },
  {
   "cell_type": "markdown",
   "metadata": {},
   "source": [
    "16. Una empresa ha encontrado que la duración de sus llamadas telefónicas a larga distancia, tiene aproximadamente una distribución normal, con media de 30 minutos y desviación típica de 3 minutos. Escriba el código en R para calcular lo siguiente.<br>\n",
    "a) ¿Qué proporción de las llamadas a larga distancia tienen una duración de más de 20 minutos, pero de menos de 30 y medio minutos?<br>\n",
    "b) ¿Qué proporción de llamadas se completan en 10 minutos o menos?<br>\n",
    "c) Una secretaria va a hacer una llamada a larga distancia. ¿Cuál es la probabilidad de que dure más de 50 minutos?"
   ]
  },
  {
   "cell_type": "code",
   "execution_count": 63,
   "metadata": {},
   "outputs": [
    {
     "name": "stdout",
     "output_type": "stream",
     "text": [
      "0.49957093966680316\n",
      "1.3083924686052994e-11\n",
      "1.308397834520747e-11\n"
     ]
    }
   ],
   "source": [
    "# a\n",
    "print(st.norm(30,3).cdf(30)-st.norm(30,3).cdf(20))\n",
    "# b\n",
    "print(st.norm(30,3).cdf(10))\n",
    "# c\n",
    "print(1-st.norm(30,3).cdf(50))"
   ]
  },
  {
   "cell_type": "markdown",
   "metadata": {},
   "source": [
    "17. El gerente de personal de una gran compañía requiere que los postulantes a un puesto efectúen una prueba de aptitud y que en ella obtengan una calificación mínima de 500. Si las calificaciones de la prueba se distribuyen normalmente con una media de 485 y desviación estándar de 30:<br>\n",
    "a) ¿Qué porcentaje de postulantes aprobará la prueba?<br>\n",
    "b) Si aquellos postulantes que obtienen un puntaje comprendido entre 471 y 499 pueden optar a una segunda oportunidad, y un total de 1200 postulantes rindió la primera prueba, ¿cuántos de los 1200 postulantes tendrán derecho a rendir la prueba por segunda vez?<br>\n",
    "c) Si el puntaje de la segunda prueba se relaciona con el puntaje de la primera prueba a través de la expresión: Y=1.25 X + 2.5, donde Y es el puntaje en la segunda prueba y X es el puntaje obtenido en la primera prueba, determine la probabilidad de que en el segunda prueba un postulante cualquiera elegido al azar obtenga el puntaje aprobatorio de 500 puntos o más.<br>\n",
    "d) Determine un puntaje “k” correspondiente al percentil 90 de la distribución. Interprete."
   ]
  },
  {
   "cell_type": "code",
   "execution_count": 82,
   "metadata": {},
   "outputs": [
    {
     "name": "stdout",
     "output_type": "stream",
     "text": [
      "0.3085375387259869\n",
      "431.11394183695114\n",
      "0.0146985911600057*sqrt(2)/sqrt(pi) + 0.242443994437725*sqrt(2)\n",
      "0.35459536400186026\n",
      "0.000497831610755083*sqrt(2) + 2.5\n"
     ]
    }
   ],
   "source": [
    "# a\n",
    "print(1-st.norm(485,30).cdf(500))\n",
    "# b\n",
    "print((st.norm(485,30).cdf(499)-st.norm(485,30).cdf(471))*1200)\n",
    "#c opcion hardcore\n",
    "x = sympy.Symbol('x')\n",
    "y = sympy.integrate((1.25*x+2.5)*(sympy.exp(-0.5*((x-485)**2)/30)/(30*sympy.sqrt(2*sympy.pi))), (x,500,sympy.oo))\n",
    "print(y)\n",
    "print(float(y))\n",
    "# c opcion clever\n",
    "#y_1 = 1.25*sympy.integrate((sympy.exp(-0.5*((x-485)**2)/30)/(30*sympy.sqrt(2*sympy.pi))), (x,500,sympy.oo))+2.5\n",
    "#print(y_1)"
   ]
  },
  {
   "cell_type": "code",
   "execution_count": 77,
   "metadata": {},
   "outputs": [
    {
     "data": {
      "text/latex": [
       "$\\displaystyle \\frac{\\sqrt{2} \\left(1.25 x + 2.5\\right) e^{- 0.0166666666666667 \\left(x - 485\\right)^{2}}}{60 \\sqrt{\\pi}}$"
      ],
      "text/plain": [
       "sqrt(2)*(1.25*x + 2.5)*exp(-0.0166666666666667*(x - 485)**2)/(60*sqrt(pi))"
      ]
     },
     "execution_count": 77,
     "metadata": {},
     "output_type": "execute_result"
    }
   ],
   "source": [
    "x = sympy.Symbol('x')\n",
    "(1.25*x+2.5)*(sympy.exp(-0.5*((x-485)**2)/30)/(30*sympy.sqrt(2*sympy.pi)))"
   ]
  },
  {
   "cell_type": "markdown",
   "metadata": {},
   "source": [
    "18. Se regula una máquina despachadora de refresco para que sirva un promedio de 200 mililitros por vaso. Si la cantidad de bebida se distribuye normalmente con una varianza igual a 225 $mililitros^2$<br>\n",
    "a) ¿cuál es la probabilidad de que un vaso contenga entre 191 y 209 mililitros?<br>\n",
    "b) ¿cuántos vasos probablemente se derramarán si se utilizan vasos de 230 mililitros para las siguientes 800 bebidas?"
   ]
  },
  {
   "cell_type": "code",
   "execution_count": 85,
   "metadata": {},
   "outputs": [
    {
     "name": "stdout",
     "output_type": "stream",
     "text": [
      "0.45149376449985285\n",
      "18.200105558543367\n"
     ]
    }
   ],
   "source": [
    "# a\n",
    "print(st.norm(200,15).cdf(209)-st.norm(200,15).cdf(191))\n",
    "# b\n",
    "print((1-st.norm(200,15).cdf(230))*800)"
   ]
  },
  {
   "cell_type": "markdown",
   "metadata": {},
   "source": [
    "19. Los salarios de los profesionales en cierto departamento son en promedio 11.9 por hora y la desviación estándar de 0.4. Si los salarios tienen una distribución normal. ¿Cuál es la probabilidad de que un profesor seleccionado al azar:<br>\n",
    "a) Reciba salarios entre 10.9 y 11.9<br>\n",
    "b) Reciba salarios inferiores a 11<br>\n",
    "c) Reciba salarios superiores a 12.95<br>\n",
    "d) ¿Cuál debe ser el salario menor que gana un trabajador que se encuentra entre el 10% de los trabajadores que más ganan?<br>\n",
    "e) Si el dueño de la industria va a aumentarle el salario al 15% de los trabajadores que menos ganan. ¿Cuál será el salario máximo que deberá ganar un trabajador para ser beneficiado con el aumento?"
   ]
  },
  {
   "cell_type": "code",
   "execution_count": 102,
   "metadata": {},
   "outputs": [
    {
     "name": "stdout",
     "output_type": "stream",
     "text": [
      "0.49379033467422384\n",
      "0.012224472655044671\n",
      "0.004332448363012609\n",
      "12.41262062621784\n",
      "11.485426644202484\n"
     ]
    }
   ],
   "source": [
    "# a\n",
    "print(st.norm(11.9,0.4).cdf(11.9)-st.norm(11.9,0.4).cdf(10.9))\n",
    "# b\n",
    "print(st.norm(11.9,0.4).cdf(11))\n",
    "# c\n",
    "print(1-st.norm(11.9,0.4).cdf(12.95))\n",
    "# d\n",
    "print(st.norm(11.9,0.4).ppf(0.9))\n",
    "# e\n",
    "print(st.norm(11.9,0.4).ppf(0.15))"
   ]
  },
  {
   "cell_type": "markdown",
   "metadata": {},
   "source": [
    "20. el tiempo requerido para pasar por la inspeccion en los aeropuertos puede ser molesto para los pasajeros. El tiempo medio de espera en periodos pico en el cincinnnati/Northern kentucky internacional es de 12.1 minutos. Suponga que los tiempos para pasar por la inspeccion de seguridad tienen una distribucion exponencial<br>\n",
    "a) cual es la probabilidad de que durante los periodos pico se requieran 10 minutos para pasar la inspeccion de seguridad.<br>\n",
    "b) De que durante ellos periodos picos se requieran mas de 20 minutos para pasar la ispeccion de seguridad.<br>\n",
    "c) de que durante los periodos pico se requieran entre 10 y 20 minutos para pasar la inspeccion de seguridad.<br>\n",
    "d) son las 8 am (perido pico) y usted se acaba deformar en la fila de seguridad. para alcanzar estar en la puerta de arribo en no mas de 30 min. si necitas 12 mininutos una vez pasada la inspeccion de seguridad para llegar a la puerta de arribo cual es la probabilidad de que se pierda el avion\n",
    "\n"
   ]
  },
  {
   "cell_type": "code",
   "execution_count": 129,
   "metadata": {},
   "outputs": [
    {
     "name": "stdout",
     "output_type": "stream",
     "text": [
      "a\n",
      "0.0\n",
      "0.0\n",
      "b\n",
      "0.19149519501466306\n",
      "0.19149519501466303\n",
      "c\n",
      "0.24610644462424758\n",
      "0.24610644462424766\n",
      "d\n",
      "0.22591345268298602\n",
      "0.22591345268298602\n"
     ]
    }
   ],
   "source": [
    "# a\n",
    "print('a')\n",
    "print(st.expon(scale=12.1).cdf(10)-st.expon(scale=12.1).cdf(10))\n",
    "x = sympy.Symbol('x')\n",
    "y = sympy.integrate((1/12.1)*sympy.exp(-(1/12.1)*x), (x,10,10))\n",
    "print(float(y))\n",
    "# b\n",
    "print('b')\n",
    "print(1- st.expon.cdf(20, scale=12.1))\n",
    "x = sympy.Symbol('x')\n",
    "y = sympy.integrate((1/12.1)*sympy.exp(-(1/12.1)*x), (x,20,sympy.oo))\n",
    "print(float(y))\n",
    "# c\n",
    "print('c')\n",
    "print(st.expon(scale=12.1).cdf(20)-st.expon(scale=12.1).cdf(10))\n",
    "x = sympy.Symbol('x')\n",
    "y = sympy.integrate((1/12.1)*sympy.exp(-(1/12.1)*x), (x,10,20))\n",
    "print(float(y))\n",
    "# d\n",
    "print('d')\n",
    "print(1-st.expon(scale=12.1).cdf(30-12))\n",
    "x = sympy.Symbol('x')\n",
    "y = 1-sympy.integrate((1/12.1)*sympy.exp(-(1/12.1)*x), (x,0,18))\n",
    "print(float(y))"
   ]
  },
  {
   "cell_type": "code",
   "execution_count": null,
   "metadata": {},
   "outputs": [],
   "source": []
  }
 ],
 "metadata": {
  "kernelspec": {
   "display_name": "Python 3",
   "language": "python",
   "name": "python3"
  },
  "language_info": {
   "codemirror_mode": {
    "name": "ipython",
    "version": 3
   },
   "file_extension": ".py",
   "mimetype": "text/x-python",
   "name": "python",
   "nbconvert_exporter": "python",
   "pygments_lexer": "ipython3",
   "version": "3.8.3"
  }
 },
 "nbformat": 4,
 "nbformat_minor": 4
}
