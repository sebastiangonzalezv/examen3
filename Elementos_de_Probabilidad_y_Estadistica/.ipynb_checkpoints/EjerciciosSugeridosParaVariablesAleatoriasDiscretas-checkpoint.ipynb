{
 "cells": [
  {
   "cell_type": "markdown",
   "metadata": {},
   "source": [
    "# Ejercicios sugeridos para variables aleatorias discretas"
   ]
  },
  {
   "cell_type": "markdown",
   "metadata": {},
   "source": [
    "1. A continuación se presenta la función de masa de probabilidad de una variable aleatoria x.\n",
    "        a. ¿Es válida esta distribución de probabilidad?\n",
    "        b. ¿Cuál es la probabilidad de que x = 30?\n",
    "        c. ¿Cuál es la probabilidad de que x sea menor o igual que 25?\n",
    "        d. ¿Cuál es la probabilidad de que x sea mayor que 30?<br>\n",
    "        \n",
    "<table width=90>\n",
    "    <tr>\n",
    "        <th>x</th>\n",
    "\t\t<th>$f(x)$</th>\n",
    " \t</tr>\n",
    "    <tr>\n",
    "        <th>20</th>\n",
    "\t\t<th>0.20</th>\n",
    " \t</tr>\n",
    "    <tr>\n",
    "        <th>25</th>\n",
    "\t\t<th>0.15</th>\n",
    " \t</tr>\n",
    "    <tr>\n",
    "        <th>30</th>\n",
    "\t\t<th>0.25</th>\n",
    " \t</tr>\n",
    "    <tr>\n",
    "        <th>35</th>\n",
    "\t\t<th>0.40</th>\n",
    " \t</tr>\n",
    "</table>"
   ]
  },
  {
   "cell_type": "markdown",
   "metadata": {},
   "source": [
    "### a\n",
    "Probability mass function (pmf) debe cumplir las siguientes condiciones<br>\n",
    "$f(x_i) \\geq 0$<br>\n",
    "$\\sum_i{f(x_i)} = i$<br>\n",
    "$f(x_i) = P(X=x_i)$<br>\n",
    "\n",
    "como la tabla cumple los 3 criterios es una distribucion valida\n",
    "### b\n",
    "$P(X=30) = f(30) = 0.25$\n",
    "### c\n",
    "$P(X \\leq 25) = f(20) + f(25) = 0.2 + 0.15 = 0.35$"
   ]
  },
  {
   "cell_type": "markdown",
   "metadata": {},
   "source": [
    "2. Una organización de protección al consumidor que habitualmente evalúa automóviles nuevos reporta el número de defectos importantes encontrados en cada carro examinado. Sea X el número de defectos importantes en un carro seleccionado al azar de cierto tipo. La función de distribución acumulativa de X es la siguiente:\n",
    "\n",
    "$$F(x) =\n",
    "\\begin{cases}\n",
    "        0 &\\quad x < 0\\\\\n",
    "        0.06 &\\quad 0 \\leq x < 1\\\\\n",
    "        0.19 &\\quad 1 \\leq x < 2\\\\\n",
    "        0.39 &\\quad 2 \\leq x < 3\\\\\n",
    "        0.67 &\\quad 3 \\leq x < 4\\\\\n",
    "        0.92 &\\quad 4 \\leq x < 5\\\\\n",
    "        0.97 &\\quad 5 \\leq x < 6\\\\\n",
    "        1 &\\quad 6 \\leq x\n",
    "         \\end{cases}\n",
    "$$\n",
    "<br>\n",
    "Caulcule las Siguienes porbabilidades directamente con la funcion de probabolidad acumulativa:\n",
    "    a. p(2)\n",
    "    b. P(X>3)\n",
    "    c. $P(2  \\leq X \\leq 5)$\n",
    "    d. $P(2  \\le X \\le 5)$"
   ]
  },
  {
   "cell_type": "markdown",
   "metadata": {},
   "source": [
    "### a\n",
    "$p(2) = F(2)- \\lim_{x\\to2^-} F(x)= 0.39-0.19 = 0.20$\n",
    "### b\n",
    "$P(X>3) = 1 - F(3) = 1-0.67=0.33$\n",
    "### c\n",
    "$P(2  \\leq X \\leq 5)= F(5) -\\lim_{x\\to2^-} F(x)  = 0.97 -0.19 = 0.78$\n",
    "### d\n",
    "$P(2  \\le X \\le 5)= \\lim_{x\\to5^-} F(x) - \\lim_{x\\to2^-} F(x) = 0.92-0.19=0.73$"
   ]
  },
  {
   "cell_type": "markdown",
   "metadata": {},
   "source": [
    "3. Una compañía de seguros ofrece a sus asegurados varias opciones diferentes de pago de primas. Para un asegurado seleccionado al azar, sea X el número de meses entre pagos sucesivos. La función de distribución acumulativa es la que se muestra abajo. Escriba la función de masa de probabilidad de X en forma tabular.<br>\n",
    "$$F(x) = \\begin{cases}\n",
    "           \\text{0.00} &\\quad x < 1\\\\\n",
    "           \\text{0.30} &\\quad 1 \\leq x < 3\\\\\n",
    "           \\text{0.40} &\\quad 3 \\leq x < 4\\\\\n",
    "           \\text{0.45} &\\quad 4 \\leq x < 6\\\\\n",
    "           \\text{0.60} &\\quad 6 \\leq x < 12\\\\\n",
    "           \\text{1.00} &\\quad 12 \\leq x\n",
    "         \\end{cases}\n",
    "$$"
   ]
  },
  {
   "cell_type": "markdown",
   "metadata": {},
   "source": [
    "<table width=90>\n",
    "    <tr>\n",
    "        <th>x</th>\n",
    "\t\t<th>$F(x)$</th>\n",
    " \t</tr>\n",
    "    <tr>\n",
    "        <th>0</th>\n",
    "\t\t<th>0</th>\n",
    " \t</tr>\n",
    "    <tr>\n",
    "        <th>1</th>\n",
    "\t\t<th>0.3</th>\n",
    " \t</tr>\n",
    "        <tr>\n",
    "        <th>2</th>\n",
    "\t\t<th>0.3</th>\n",
    " \t</tr>\n",
    "        <tr>\n",
    "        <th>3</th>\n",
    "\t\t<th>0.4</th>\n",
    " \t</tr>\n",
    "        <tr>\n",
    "        <th>4</th>\n",
    "\t\t<th>0.45</th>\n",
    " \t</tr>\n",
    "    <tr>\n",
    "        <th>5</th>\n",
    "\t\t<th>0.45</th>\n",
    " \t</tr>\n",
    "    <tr>\n",
    "        <th>6</th>\n",
    "\t\t<th>0.6</th>\n",
    " \t</tr>\n",
    "    <tr>\n",
    "        <th>7</th>\n",
    "\t\t<th>0.6</th>\n",
    " \t</tr>\n",
    "    <tr>\n",
    "        <th>8</th>\n",
    "\t\t<th>0.6</th>\n",
    " \t</tr>\n",
    "    <tr>\n",
    "        <th>9</th>\n",
    "\t\t<th>0.6</th>\n",
    " \t</tr>\n",
    "    <tr>\n",
    "        <th>10</th>\n",
    "\t\t<th>0.6</th>\n",
    " \t</tr>\n",
    "    <tr>\n",
    "        <th>11</th>\n",
    "\t\t<th>0.6</th>\n",
    " \t</tr>\n",
    "    <tr>\n",
    "        <th>12</th>\n",
    "\t\t<th>1</th>\n",
    " \t</tr>\n",
    "</table>"
   ]
  },
  {
   "cell_type": "code",
   "execution_count": 11,
   "metadata": {},
   "outputs": [],
   "source": [
    "import pandas as pd\n",
    "from scipy.stats import norm\n",
    "import matplotlib.pyplot as plt\n",
    "import numpy as np\n",
    "import scipy.stats as st"
   ]
  },
  {
   "cell_type": "code",
   "execution_count": 2,
   "metadata": {},
   "outputs": [
    {
     "name": "stdout",
     "output_type": "stream",
     "text": [
      "0.5\n"
     ]
    },
    {
     "data": {
      "image/png": "[encoded data removed]",
      "text/plain": [
       "<Figure size 432x288 with 1 Axes>"
      ]
     },
     "metadata": {
      "needs_background": "light"
     },
     "output_type": "display_data"
    }
   ],
   "source": [
    "data = pd.read_csv(\"https://www.stat.berkeley.edu/~statlabs/data/video.data\", sep='\\s+')\n",
    "print(norm.cdf(data.work)[9])\n",
    "plt.hist(data.work, density=True, histtype='step',cumulative=True,)\n",
    "plt.show()"
   ]
  },
  {
   "cell_type": "code",
   "execution_count": 3,
   "metadata": {},
   "outputs": [
    {
     "data": {
      "text/html": [
       "<div>\n",
       "<style scoped>\n",
       "    .dataframe tbody tr th:only-of-type {\n",
       "        vertical-align: middle;\n",
       "    }\n",
       "\n",
       "    .dataframe tbody tr th {\n",
       "        vertical-align: top;\n",
       "    }\n",
       "\n",
       "    .dataframe thead th {\n",
       "        text-align: right;\n",
       "    }\n",
       "</style>\n",
       "<table border=\"1\" class=\"dataframe\">\n",
       "  <thead>\n",
       "    <tr style=\"text-align: right;\">\n",
       "      <th></th>\n",
       "      <th>time</th>\n",
       "      <th>like</th>\n",
       "      <th>where</th>\n",
       "      <th>freq</th>\n",
       "      <th>busy</th>\n",
       "      <th>educ</th>\n",
       "      <th>sex</th>\n",
       "      <th>age</th>\n",
       "      <th>home</th>\n",
       "      <th>math</th>\n",
       "      <th>work</th>\n",
       "      <th>own</th>\n",
       "      <th>cdrom</th>\n",
       "      <th>email</th>\n",
       "      <th>grade</th>\n",
       "    </tr>\n",
       "  </thead>\n",
       "  <tbody>\n",
       "    <tr>\n",
       "      <th>0</th>\n",
       "      <td>2.0</td>\n",
       "      <td>3</td>\n",
       "      <td>3</td>\n",
       "      <td>2</td>\n",
       "      <td>0</td>\n",
       "      <td>1</td>\n",
       "      <td>0</td>\n",
       "      <td>19</td>\n",
       "      <td>1</td>\n",
       "      <td>0</td>\n",
       "      <td>10</td>\n",
       "      <td>1</td>\n",
       "      <td>0</td>\n",
       "      <td>1</td>\n",
       "      <td>4</td>\n",
       "    </tr>\n",
       "    <tr>\n",
       "      <th>1</th>\n",
       "      <td>0.0</td>\n",
       "      <td>3</td>\n",
       "      <td>3</td>\n",
       "      <td>3</td>\n",
       "      <td>0</td>\n",
       "      <td>0</td>\n",
       "      <td>0</td>\n",
       "      <td>18</td>\n",
       "      <td>1</td>\n",
       "      <td>1</td>\n",
       "      <td>0</td>\n",
       "      <td>1</td>\n",
       "      <td>1</td>\n",
       "      <td>1</td>\n",
       "      <td>2</td>\n",
       "    </tr>\n",
       "    <tr>\n",
       "      <th>2</th>\n",
       "      <td>0.0</td>\n",
       "      <td>3</td>\n",
       "      <td>1</td>\n",
       "      <td>3</td>\n",
       "      <td>0</td>\n",
       "      <td>0</td>\n",
       "      <td>1</td>\n",
       "      <td>19</td>\n",
       "      <td>1</td>\n",
       "      <td>0</td>\n",
       "      <td>0</td>\n",
       "      <td>1</td>\n",
       "      <td>0</td>\n",
       "      <td>1</td>\n",
       "      <td>3</td>\n",
       "    </tr>\n",
       "    <tr>\n",
       "      <th>3</th>\n",
       "      <td>0.5</td>\n",
       "      <td>3</td>\n",
       "      <td>3</td>\n",
       "      <td>3</td>\n",
       "      <td>0</td>\n",
       "      <td>1</td>\n",
       "      <td>0</td>\n",
       "      <td>19</td>\n",
       "      <td>1</td>\n",
       "      <td>0</td>\n",
       "      <td>0</td>\n",
       "      <td>1</td>\n",
       "      <td>0</td>\n",
       "      <td>1</td>\n",
       "      <td>3</td>\n",
       "    </tr>\n",
       "    <tr>\n",
       "      <th>4</th>\n",
       "      <td>0.0</td>\n",
       "      <td>3</td>\n",
       "      <td>3</td>\n",
       "      <td>4</td>\n",
       "      <td>0</td>\n",
       "      <td>1</td>\n",
       "      <td>0</td>\n",
       "      <td>19</td>\n",
       "      <td>1</td>\n",
       "      <td>1</td>\n",
       "      <td>0</td>\n",
       "      <td>0</td>\n",
       "      <td>0</td>\n",
       "      <td>1</td>\n",
       "      <td>3</td>\n",
       "    </tr>\n",
       "    <tr>\n",
       "      <th>...</th>\n",
       "      <td>...</td>\n",
       "      <td>...</td>\n",
       "      <td>...</td>\n",
       "      <td>...</td>\n",
       "      <td>...</td>\n",
       "      <td>...</td>\n",
       "      <td>...</td>\n",
       "      <td>...</td>\n",
       "      <td>...</td>\n",
       "      <td>...</td>\n",
       "      <td>...</td>\n",
       "      <td>...</td>\n",
       "      <td>...</td>\n",
       "      <td>...</td>\n",
       "      <td>...</td>\n",
       "    </tr>\n",
       "    <tr>\n",
       "      <th>86</th>\n",
       "      <td>2.0</td>\n",
       "      <td>3</td>\n",
       "      <td>4</td>\n",
       "      <td>2</td>\n",
       "      <td>1</td>\n",
       "      <td>0</td>\n",
       "      <td>1</td>\n",
       "      <td>19</td>\n",
       "      <td>1</td>\n",
       "      <td>0</td>\n",
       "      <td>0</td>\n",
       "      <td>1</td>\n",
       "      <td>99</td>\n",
       "      <td>1</td>\n",
       "      <td>4</td>\n",
       "    </tr>\n",
       "    <tr>\n",
       "      <th>87</th>\n",
       "      <td>5.0</td>\n",
       "      <td>3</td>\n",
       "      <td>3</td>\n",
       "      <td>2</td>\n",
       "      <td>0</td>\n",
       "      <td>1</td>\n",
       "      <td>0</td>\n",
       "      <td>20</td>\n",
       "      <td>1</td>\n",
       "      <td>0</td>\n",
       "      <td>14</td>\n",
       "      <td>1</td>\n",
       "      <td>1</td>\n",
       "      <td>1</td>\n",
       "      <td>4</td>\n",
       "    </tr>\n",
       "    <tr>\n",
       "      <th>88</th>\n",
       "      <td>0.0</td>\n",
       "      <td>2</td>\n",
       "      <td>5</td>\n",
       "      <td>4</td>\n",
       "      <td>0</td>\n",
       "      <td>1</td>\n",
       "      <td>0</td>\n",
       "      <td>33</td>\n",
       "      <td>1</td>\n",
       "      <td>0</td>\n",
       "      <td>40</td>\n",
       "      <td>1</td>\n",
       "      <td>0</td>\n",
       "      <td>0</td>\n",
       "      <td>2</td>\n",
       "    </tr>\n",
       "    <tr>\n",
       "      <th>89</th>\n",
       "      <td>3.0</td>\n",
       "      <td>3</td>\n",
       "      <td>3</td>\n",
       "      <td>2</td>\n",
       "      <td>0</td>\n",
       "      <td>0</td>\n",
       "      <td>1</td>\n",
       "      <td>19</td>\n",
       "      <td>1</td>\n",
       "      <td>0</td>\n",
       "      <td>5</td>\n",
       "      <td>1</td>\n",
       "      <td>1</td>\n",
       "      <td>1</td>\n",
       "      <td>3</td>\n",
       "    </tr>\n",
       "    <tr>\n",
       "      <th>90</th>\n",
       "      <td>0.0</td>\n",
       "      <td>3</td>\n",
       "      <td>4</td>\n",
       "      <td>3</td>\n",
       "      <td>0</td>\n",
       "      <td>1</td>\n",
       "      <td>0</td>\n",
       "      <td>19</td>\n",
       "      <td>0</td>\n",
       "      <td>1</td>\n",
       "      <td>5</td>\n",
       "      <td>1</td>\n",
       "      <td>0</td>\n",
       "      <td>1</td>\n",
       "      <td>2</td>\n",
       "    </tr>\n",
       "  </tbody>\n",
       "</table>\n",
       "<p>91 rows × 15 columns</p>\n",
       "</div>"
      ],
      "text/plain": [
       "    time  like  where  freq  busy  educ  sex  age  home  math  work  own  \\\n",
       "0    2.0     3      3     2     0     1    0   19     1     0    10    1   \n",
       "1    0.0     3      3     3     0     0    0   18     1     1     0    1   \n",
       "2    0.0     3      1     3     0     0    1   19     1     0     0    1   \n",
       "3    0.5     3      3     3     0     1    0   19     1     0     0    1   \n",
       "4    0.0     3      3     4     0     1    0   19     1     1     0    0   \n",
       "..   ...   ...    ...   ...   ...   ...  ...  ...   ...   ...   ...  ...   \n",
       "86   2.0     3      4     2     1     0    1   19     1     0     0    1   \n",
       "87   5.0     3      3     2     0     1    0   20     1     0    14    1   \n",
       "88   0.0     2      5     4     0     1    0   33     1     0    40    1   \n",
       "89   3.0     3      3     2     0     0    1   19     1     0     5    1   \n",
       "90   0.0     3      4     3     0     1    0   19     0     1     5    1   \n",
       "\n",
       "    cdrom  email  grade  \n",
       "0       0      1      4  \n",
       "1       1      1      2  \n",
       "2       0      1      3  \n",
       "3       0      1      3  \n",
       "4       0      1      3  \n",
       "..    ...    ...    ...  \n",
       "86     99      1      4  \n",
       "87      1      1      4  \n",
       "88      0      0      2  \n",
       "89      1      1      3  \n",
       "90      0      1      2  \n",
       "\n",
       "[91 rows x 15 columns]"
      ]
     },
     "execution_count": 3,
     "metadata": {},
     "output_type": "execute_result"
    }
   ],
   "source": [
    "data"
   ]
  },
  {
   "cell_type": "markdown",
   "metadata": {},
   "source": [
    "6. Una ambulancia de voluntarios realiza de 0 a 5 servicios por día. A continuación se presenta la distribución de probabilidad de los servicios por día.\n",
    "\n",
    "<table width=160>\n",
    "    <tr>\n",
    "        <th>Número de servicios</th>\n",
    "\t\t<th>Probabilidad</th>\n",
    " \t</tr>\n",
    "    <tr>\n",
    "        <th>0</th>\n",
    "\t\t<th>0.1</th>\n",
    " \t</tr>\n",
    "    <tr>\n",
    "        <th>1</th>\n",
    "\t\t<th>0.15</th>\n",
    " \t</tr>\n",
    "        <tr>\n",
    "        <th>2</th>\n",
    "\t\t<th>0.3</th>\n",
    " \t</tr>\n",
    "        <tr>\n",
    "        <th>3</th>\n",
    "\t\t<th>0.2</th>\n",
    " \t</tr>\n",
    "        <tr>\n",
    "        <th>4</th>\n",
    "\t\t<th>0.15</th>\n",
    " \t</tr>\n",
    "    <tr>\n",
    "        <th>5</th>\n",
    "\t\t<th>0.10</th>\n",
    " \t</tr>\n",
    "</table>\n",
    "\n",
    "a. ¿Cuál es el valor esperado del número de servicios?<BR>\n",
    "b. ¿Cuál es la varianza del número de servicios? ¿Cuál es la desviación estándar? "
   ]
  },
  {
   "cell_type": "markdown",
   "metadata": {},
   "source": [
    "### a\n",
    "$E(X) = \\mu = \\sum_{i=1}^{n}{x_i \\cdot f(x_i)}$<br>\n",
    "$E(X) = 0*0.1+1*0.15+2*0.3+3*0.2+4*0.15+5*0.1 = \\frac{49}{2} = 2.45$"
   ]
  },
  {
   "cell_type": "code",
   "execution_count": 12,
   "metadata": {},
   "outputs": [
    {
     "name": "stdout",
     "output_type": "stream",
     "text": [
      "el valor esperado del número de servicios es 2.45\n"
     ]
    }
   ],
   "source": [
    "x = np.arange(0,6)\n",
    "f_x = np.array([0.1,0.15,0.3,0.2,0.15,0.10]) \n",
    "e = np.dot(x, f_x)\n",
    "print(\"el valor esperado del número de servicios es {}\".format(e))"
   ]
  },
  {
   "cell_type": "markdown",
   "metadata": {},
   "source": [
    "### b\n",
    "$Var(x) = \\sigma^2= \\sum_{i\\in D}{(x_i - \\mu)^2 * f(x_i)} = E(x^2)-[E(x)]^2$<br>\n",
    "$sd = \\sqrt{Var(x)}$"
   ]
  },
  {
   "cell_type": "code",
   "execution_count": 13,
   "metadata": {},
   "outputs": [
    {
     "name": "stdout",
     "output_type": "stream",
     "text": [
      "la varianza es: 2.05 \n",
      "la  desviación estándar es: 1.43\n"
     ]
    }
   ],
   "source": [
    "var = np.sum(((x-e)**2)*f_x)\n",
    "sd = np.sqrt(var)\n",
    "print(\"la varianza es: {:.2f} \\nla  desviación estándar es: {:.2f}\".format(var, sd))"
   ]
  },
  {
   "cell_type": "markdown",
   "metadata": {},
   "source": [
    "7. ¿Quién es el rey de los programas de TV por la noche? Una encuesta en Internet estima que, cuando se les da a elegir entre El Desafío y La Isla de los Famosos, 52% de la población prefiere La Isla de los Famosos. Al azar se seleccionan tres personas que ven TV hasta tarde y se les pregunta cuál de los dos programas prefieren.<br>\n",
    "\n",
    "    a. Encuentre la función de masa de probabilidad para Y: número de personas de la muestra que prefieren La Isla de los Famosos.<br>\n",
    "    b. ¿Cuál es la probabilidad de que exactamente una de esas tres personas prefieran La Isla de los famosos? "
   ]
  },
  {
   "cell_type": "markdown",
   "metadata": {},
   "source": [
    "esto es una distribucion Binomial $X\\sim B(n,p)$<br>\n",
    "$P(X=x)=f(x)=\\binom{n}{x} * p^x *(1-p)^{n-x}$<br>\n",
    "donde n=3 y p=0.52 y <br>\n",
    "$P(X=x)=f(x)=\\binom{3}{x} * 0.52^x *(1-0.52)^{3-x} \\quad\\quad\\quad\\forall x \\in [0,1,2,3]$<br>\n",
    "$P(X=0)=\\frac{1728}{15625}\\approx0.1106$<br>\n",
    "$P(X=1)=\\frac{5616}{15625}\\approx0.3594$<br>\n",
    "$P(X=2)=\\frac{6084}{15625}\\approx0.3894$<br>\n",
    "$P(X=3)=\\frac{2197}{15625}\\approx0.1406$<br>\n",
    "b = 35.94%\n"
   ]
  },
  {
   "cell_type": "code",
   "execution_count": 14,
   "metadata": {},
   "outputs": [
    {
     "name": "stdout",
     "output_type": "stream",
     "text": [
      "[0.110592 0.359424 0.389376 0.140608]\n",
      "0.359424\n"
     ]
    }
   ],
   "source": [
    "x = np.array([0,1,2,3])\n",
    "print(st.binom.pmf(x, n=3, p=0.52))\n",
    "print(st.binom.pmf(1, n=3, p=0.52))"
   ]
  },
  {
   "cell_type": "markdown",
   "metadata": {},
   "source": [
    "8. En un juego de azar una persona saca una sola carta de una baraja ordinaria de 52 cartas. A una persona le pagan \\\\$ 15 por sacar una “sota” o una reina y \\\\$ 5 por sacar un rey o un as. Alguien que saque cualquier otra carta paga \\\\$ 4. Si una persona participa en este juego, ¿cuál es la ganancia esperada? ¿Cómo se interpreta este valor?"
   ]
  },
  {
   "cell_type": "markdown",
   "metadata": {},
   "source": [
    "$E[h(X)] =\\mu_h(X) = \\sum_{i=1}^n{h(x_i)f(x_i)}$<br>\n",
    "$\\mu_h(X) = 36(-4*\\frac{1}{52}) + 8(15*\\frac{1}{52})+ 8(5*\\frac{1}{52}) = \\frac{4}{13} \\approx 0.31$"
   ]
  },
  {
   "cell_type": "markdown",
   "metadata": {},
   "source": [
    "12. Un distribuidor de enseres para el hogar vende tres modelos de congeladores verticales de 13.5, 15.9 y 19.1 pies cúbicos de espacio de almacenamiento, respectivamente. Sea X la cantidad de espacio de almacenamiento\n",
    "<table>\n",
    "    <tr>\n",
    "        <th>x</th>\n",
    "\t\t<th>13.5</th>\n",
    "        <th>15.9</th>\n",
    "        <th>19.1</th>\n",
    " \t</tr>\n",
    "    <tr>\n",
    "        <th>p(x)</th>\n",
    "\t\t<th>0.2</th>\n",
    "        <th>0.5</th>\n",
    "        <th>0.3</th>\n",
    " \t</tr>\n",
    "</table>\n",
    "adquirido por el siguiente cliente que compre un congelador. Suponga que X tiene la función masa de probabilidad.<br>\n",
    "Calcule<br>\n",
    "    a. E(X), E(X2) y V(X).<br>\n",
    "    b. Si el precio de un congelador depende de la capacidad X del congelador por medio de la expresión 25X-8.5, ¿cuál es el precio esperado un congelador?<br>\n",
    "    c. ¿Cuál es la varianza del precio del congelador?<br>"
   ]
  },
  {
   "cell_type": "markdown",
   "metadata": {},
   "source": [
    "### a\n",
    "$E(X) = \\mu = \\sum_{i=1}^{n}{x_i \\cdot f(x_i)}$<br>\n",
    "$E(X) = 13.5*0.2+15.9*0.5+19.1*0.3 = \\frac{819}{50} = 16.38$<br>\n",
    "$E(X^2) = \\sum_{i=1}^{n}{x_i^2 \\cdot f(x_i)}$<br>\n",
    "$E(X^2) = 13.5^2*0.2+15.9^2*0.5+19.1^2*0.3 = \\frac{136149}{500} = 272.298$<br>\n",
    "$[E(X)]^2 = \\mu^2 = [\\sum_{i=1}^{n}{x_i \\cdot f(x_i)}]^2$<br>\n",
    "$[E(X)]^2 = (13.5*0.2+15.9*0.5+19.1*0.3)^2 = \\frac{670761}{2500} = 268.3044$<br>\n",
    "$Var(X)= E(X^2)-[E(X)]^2 = \\frac{136149}{500} -\\frac{670761}{2500} = \\frac{2496}{625} = 3.9936$ \n",
    "### b\n",
    "$E[h(X)] = \\mu_h(X) = \\sum_{i=1}^n{h(x_i)f(x_i)}$<br>\n",
    "$E[h(X)] = (25*13.5-8.5)*0.2+(25*15.9-8.5)*0.5+(25*19.1-8.5)*0.3 = 401$<br>\n",
    "### c\n",
    "$Var[h(X)]= \\sum_{i\\in D}{(h(x_i)-\\mu_h)^2f(x_i)}$\n",
    "$Var[h(X)]= ((25*13.5-8.5)-401)^2*0.2+((25*15.9-8.5)-401)^2*0.5+((25*19.1-8.5)-401)^2*0.3 = 2496$"
   ]
  },
  {
   "cell_type": "markdown",
   "metadata": {},
   "source": [
    "13. Un laboratorio afirma que una droga causa de efectos secundarios en una proporción de 3 de cada 100 pacientes. Para contrastar esta afirmación, otro laboratorio elige al azar a 5 pacientes a los que aplica la droga. ¿Cuál es la probabilidad de los siguientes sucesos?<br>\n",
    "    a. Ningún paciente tenga efectos secundarios.<br>\n",
    "    b. Al menos dos tengan efectos secundarios.<br>\n",
    "    c. ¿Cuál es el número medio de pacientes que espera laboratorio que sufran efectos secundarios si elige 100 pacientes al azar?"
   ]
  },
  {
   "cell_type": "markdown",
   "metadata": {},
   "source": [
    "### a. Binomial distribution\n",
    "$X\\sim B(n,b)$<br>"
   ]
  },
  {
   "cell_type": "code",
   "execution_count": 15,
   "metadata": {},
   "outputs": [
    {
     "name": "stdout",
     "output_type": "stream",
     "text": [
      "0.8587340257\n"
     ]
    }
   ],
   "source": [
    "print(st.binom.pmf(0, n=5, p=3/100))"
   ]
  },
  {
   "cell_type": "markdown",
   "metadata": {},
   "source": [
    "### b. Binomial distribution\n",
    "$p= 1- P(X\\sim B(n,b)\\leq 1)$<br>"
   ]
  },
  {
   "cell_type": "code",
   "execution_count": 16,
   "metadata": {},
   "outputs": [
    {
     "name": "stdout",
     "output_type": "stream",
     "text": [
      "0.008472052799999963\n"
     ]
    }
   ],
   "source": [
    "print(1-st.binom.cdf(1, n=5, p=3/100))"
   ]
  },
  {
   "cell_type": "markdown",
   "metadata": {},
   "source": [
    "### c. Binomial distribution\n",
    "$E(x)=n\\cdot p = 100\\cdot\\frac{3}{100}=3$<br>\n"
   ]
  },
  {
   "cell_type": "markdown",
   "metadata": {},
   "source": [
    "14. A continuación se presenta una tabla con el número de veces que un grupo de personas presentó el TOEFL hasta que lograron pasar el examen. Asuma que los intentos de cada persona se pueden considerar como ensayos independientes. ¿Cuál es la distribución discreta que mejor podría explicar el número de intentos? ¿Cuál es el valor de parámetro p?\n",
    "<table>\n",
    "    <tr>\n",
    "        <th>N° intentos</th>\n",
    "        <th>5</th>\n",
    "        <th>1</th>\n",
    "        <th>3</th>\n",
    "        <th>9</th>\n",
    "        <th>3</th>\n",
    "        <th>3</th>\n",
    "        <th>5</th>\n",
    "        <th>1</th>\n",
    "     </tr>\n",
    "    <tr>\n",
    "        <th>Persona</th>\n",
    "        <th>1</th>\n",
    "        <th>2</th>\n",
    "        <th>3</th>\n",
    "        <th>4</th>\n",
    "        <th>5</th>\n",
    "        <th>6</th>\n",
    "        <th>7</th>\n",
    "        <th>8</th>\n",
    "     </tr>\n",
    "</table>"
   ]
  },
  {
   "cell_type": "markdown",
   "metadata": {},
   "source": [
    "como se repite el intento hasta lograr el exito entonces es una Geometric distribution<br>\n",
    "random variable** with pmf given <br>\n",
    "$X\\sim Geo(p)$<br>\n",
    "$p= \\frac{cantidad de personas}{\\text{numero total interntos}} = \\frac{8}{30}= 2.67$"
   ]
  },
  {
   "cell_type": "markdown",
   "metadata": {},
   "source": [
    "15. Para un proceso de selección laboral existe una prueba de espacialidad la cual consiste en armar rompecabezas.  A  cada  candidato  se  le  presenta  en  forma  secuencial  un  rompecabezas  y  él  puede  armarlo  o  cambiar  de rompecabezas,  la  prueba  termina  cuando  haya armado  cuatro.  Suponga  que  las  pruebas  son  independientes debido  a  que  los  rompecabezas  son  muy  diferentes  entre  sí.  A  continuación  se  presenta  una  tabla  con  los resultados de los candidatos. ¿Cuál es la distribución discreta que mejor podría explicar el número de intentos? ¿Cuál es el valor de parámetro 𝑝?\n",
    "<table>\n",
    "    <tr>\n",
    "        <th>N° intentos</th>\n",
    "        <th>10</th>\n",
    "        <th>12</th>\n",
    "        <th>9</th>\n",
    "        <th>7</th>\n",
    "        <th>8</th>\n",
    "        <th>10</th>\n",
    "        <th>9</th>\n",
    "     </tr>\n",
    "    <tr>\n",
    "        <th>Persona</th>\n",
    "        <th>1</th>\n",
    "        <th>2</th>\n",
    "        <th>3</th>\n",
    "        <th>4</th>\n",
    "        <th>5</th>\n",
    "        <th>6</th>\n",
    "        <th>7</th>\n",
    "     </tr>\n",
    "</table>"
   ]
  },
  {
   "cell_type": "markdown",
   "metadata": {},
   "source": [
    "Negative Binomial\n",
    "\n",
    "$p= \\frac{cantidad de personas*\\text{r que son 4}}{\\text{numero total interntos}} = \\frac{7*4}{65}= 2.431$"
   ]
  },
  {
   "cell_type": "markdown",
   "metadata": {},
   "source": [
    "16. Diez  patrullas  de  tránsito  hacen  retenes  el  sábado  por  la  noche  en  sitios  diferentes  de  la  ciudad  buscando conductores borrachos. La directriz es detener solo 20 vehículos y analizar los conductores. El reporte dado el día lunes  por  las  patrullas  se  muestra  en  una  tabla  dada  abajo.  ¿Cuál  es  la  distribución  discreta  que  mejor  podría explicar el número de conductores borrachos? ¿Cuál es el valor de parámetro 𝑝?<br>\n",
    "<table>\n",
    "    <tr>\n",
    "        <th>Retén</th>\n",
    "        <th>1</th>\n",
    "        <th>2</th>\n",
    "        <th>3</th>\n",
    "        <th>4</th>\n",
    "        <th>5</th>\n",
    "        <th>6</th>\n",
    "        <th>7</th>\n",
    "        <th>8</th>\n",
    "        <th>9</th>\n",
    "        <th>10</th>\n",
    "     </tr>\n",
    "    <tr>\n",
    "        <th>N conductores borrachos</th>\n",
    "        <th>2</th>\n",
    "        <th>5</th>\n",
    "        <th>3</th>\n",
    "        <th>0</th>\n",
    "        <th>1</th>\n",
    "        <th>2</th>\n",
    "        <th>5</th>\n",
    "        <th>0</th>\n",
    "        <th>0</th>\n",
    "        <th>1</th>\n",
    "     </tr>\n",
    "</table>"
   ]
  },
  {
   "cell_type": "code",
   "execution_count": null,
   "metadata": {},
   "outputs": [],
   "source": []
  },
  {
   "cell_type": "markdown",
   "metadata": {},
   "source": [
    "17. A una fotocopiadora de una papelería llegan clientes según un proceso Poisson. Se observaron seis intervalos de una hora y se registró el número de clientes que solicitaron servicio de fotocopias, los resultados se muestran en la tabla dada a continuación.¿Cuál es la distribución discreta que mejor podría explicar el número de clientes que llegan a la fotocopiadora? ¿Cuál es el valor de parámetro 𝜆? \n"
   ]
  },
  {
   "cell_type": "markdown",
   "metadata": {},
   "source": [
    "$\\lambda = \\frac{N clientes}{hora}$<br>\n",
    "$\\lambda = [\\frac{15}{1},\\frac{23}{2},\\frac{3}{24},\\frac{4}{19},\\frac{5}{17},\\frac{6}{18}]$\n",
    "por aca no fue"
   ]
  },
  {
   "cell_type": "markdown",
   "metadata": {},
   "source": [
    "18. La probabilidad de que salga cara en una moneda trucada es 0.45. Si la moneda se lanza siete veces,calcular la probabilidad de que:<br>\n",
    "    a.Salgan exactamente tres caras.<br>\n",
    "    b.Salgan al menos tres caras."
   ]
  },
  {
   "cell_type": "markdown",
   "metadata": {},
   "source": [
    "Binomial distribution<br>\n",
    "$X\\sim B(n,b)$<br>\n",
    "$P(X=x) = f(x) = \\binom{n}{x}p^x(1-p)^{n-x}$<br>\n",
    "$P(X=3) = f(3) = \\binom{7}{3}0.45^3(1-0.45)^{7-3}= 0.29184774609375$<br>"
   ]
  },
  {
   "cell_type": "code",
   "execution_count": 19,
   "metadata": {},
   "outputs": [
    {
     "data": {
      "text/plain": [
       "0.29184774609375014"
      ]
     },
     "execution_count": 19,
     "metadata": {},
     "output_type": "execute_result"
    }
   ],
   "source": [
    "print(st.binom.pmf(k=3, n=7, p=0.45))"
   ]
  },
  {
   "cell_type": "markdown",
   "metadata": {},
   "source": [
    "$P(X\\geq 3)=1 - P(X\\leq 2)$"
   ]
  },
  {
   "cell_type": "code",
   "execution_count": 24,
   "metadata": {},
   "outputs": [
    {
     "name": "stdout",
     "output_type": "stream",
     "text": [
      "0.6835599492187501\n"
     ]
    }
   ],
   "source": [
    "print(1 - st.binom.cdf(k=2, n=7, p=0.45))"
   ]
  },
  {
   "cell_type": "markdown",
   "metadata": {},
   "source": [
    "19. Sea X la variable aleatoria número de aleteos por segundo de una especie de polillas grandes mientras vuelan. Si X tiene como función de probabilidad.\n",
    "<table>\n",
    "    <tr>\n",
    "        <th>x</th>\n",
    "        <th>6</th>\n",
    "        <th>7</th>\n",
    "        <th>8</th>\n",
    "        <th>9</th>\n",
    "        <th>10</th>\n",
    "     </tr>\n",
    "    <tr>\n",
    "        <th>P(x)</th>\n",
    "        <th>0.05</th>\n",
    "        <th>0.1</th>\n",
    "        <th>0.6</th>\n",
    "        <th>k</th>\n",
    "        <th>0.1</th>\n",
    "     </tr>\n",
    "</table>\n",
    "    a.Encontrar el valor de K.<br>\n",
    "    b)Calcular el promedio de aleteos<br>\n",
    "    c)Calcular la variación de aleteos<br>\n",
    "    d)Graficar la función"
   ]
  },
  {
   "cell_type": "markdown",
   "metadata": {},
   "source": [
    "### a\n",
    "$k=1-(0.05+0.1+0.6+0.1)=0.15$"
   ]
  },
  {
   "cell_type": "markdown",
   "metadata": {},
   "source": [
    "### b"
   ]
  },
  {
   "cell_type": "code",
   "execution_count": 37,
   "metadata": {},
   "outputs": [
    {
     "data": {
      "text/plain": [
       "8.149999999999999"
      ]
     },
     "execution_count": 37,
     "metadata": {},
     "output_type": "execute_result"
    }
   ],
   "source": [
    "x = np.array([6, 7, 8, 9, 10])\n",
    "fx = np.array([0.05, 0.1, 0.6, 0.15, 0.1])\n",
    "np.average(x, weights=fx)"
   ]
  },
  {
   "cell_type": "markdown",
   "metadata": {},
   "source": [
    "### c"
   ]
  },
  {
   "cell_type": "code",
   "execution_count": 42,
   "metadata": {},
   "outputs": [
    {
     "data": {
      "text/plain": [
       "0.8275"
      ]
     },
     "execution_count": 42,
     "metadata": {},
     "output_type": "execute_result"
    }
   ],
   "source": [
    "e = np.dot(x, fx)\n",
    "var = np.sum(((x-e)**2)*fx)\n",
    "var"
   ]
  },
  {
   "cell_type": "markdown",
   "metadata": {},
   "source": [
    "### d"
   ]
  },
  {
   "cell_type": "code",
   "execution_count": 43,
   "metadata": {},
   "outputs": [
    {
     "data": {
      "image/png": "[encoded data removed]",
      "text/plain": [
       "<Figure size 432x288 with 1 Axes>"
      ]
     },
     "metadata": {
      "needs_background": "light"
     },
     "output_type": "display_data"
    }
   ],
   "source": [
    "plt.plot(x,fx)\n",
    "plt.show()"
   ]
  },
  {
   "cell_type": "markdown",
   "metadata": {},
   "source": [
    "20. Veinte por ciento de todos los teléfonos de cierto tipo son llevados a servicio mientras se encuentran dentro de la garantía. De éstos, 60% pueden ser reparados, mientras que el restante deben ser reemplazados por teléfonos nuevos. Si una compañía adquiere doce de estos teléfonos, y asumiendo que los teléfonos que son llevados a servicio son independientes uno del otro, ¿cuál es la probabilidad de que al menos cuatro sean reemplazadosen la vigencia de su garantía?"
   ]
  },
  {
   "cell_type": "markdown",
   "metadata": {},
   "source": [
    "Binomial distribution<br>\n",
    "$X\\sim B(n,b)$<br>"
   ]
  },
  {
   "cell_type": "code",
   "execution_count": 52,
   "metadata": {},
   "outputs": [
    {
     "data": {
      "text/plain": [
       "0.012011790550145895"
      ]
     },
     "execution_count": 52,
     "metadata": {},
     "output_type": "execute_result"
    }
   ],
   "source": [
    "1 - st.binom.cdf(3,12, 0.4*0.2)"
   ]
  },
  {
   "cell_type": "markdown",
   "metadata": {},
   "source": [
    "21. Un  juicio es realizado  con los  miembros  del  jurado  en  desacuerdo  porque  ocho  de  sus  miembros  estuvieron  a favor de un veredicto de culpabilidad mientras que los otros cuatro estuvieron a favor de la absolución. Si todos los jurados salen de la sala de debate en orden aleatorio y cada uno de los primeros cinco que salen de la sala de debate es acosado por un reportero para entrevistarlo, ¿cuál es la probabilidad de que al menos dos reconozcan a los medios que estuvieron a favor de la absolución?"
   ]
  },
  {
   "cell_type": "markdown",
   "metadata": {},
   "source": [
    "Hypergeometric Distribution<br>\n",
    "$X\\sim h(m,n,k)$<br>\n",
    "$X\\sim h(4,8,5)$<br>"
   ]
  },
  {
   "cell_type": "code",
   "execution_count": 91,
   "metadata": {},
   "outputs": [
    {
     "data": {
      "text/plain": [
       "0.5757575757575757"
      ]
     },
     "execution_count": 91,
     "metadata": {},
     "output_type": "execute_result"
    }
   ],
   "source": [
    "# M = m+n\n",
    "# n = m\n",
    "# N = k\n",
    "# k = x\n",
    "np.sum(st.hypergeom.pmf(np.arange(2,5), M=8+4, n=4, N=5))"
   ]
  },
  {
   "cell_type": "markdown",
   "metadata": {},
   "source": [
    " $$ p(k, M, n, N) = \\frac{\\binom{n}{k} \\binom{M - n}{N - k}}{\\binom{M}{N}}$$"
   ]
  },
  {
   "cell_type": "markdown",
   "metadata": {},
   "source": [
    "21. Un director de personal va entrevistar ingenieros para cuatro vacantes de trabajo. Suponga que los candidatos son entrevistados en orden aleatorio. La probabilidad histórica de que un candidato no sea aceptado para el trabajo es de 25%. ¿Cuál es la probabilidad de que el director de personal deba hacer al menos ocho entrevistas para conseguir llenar las vacantes?"
   ]
  },
  {
   "cell_type": "markdown",
   "metadata": {},
   "source": [
    "distr"
   ]
  }
 ],
 "metadata": {
  "kernelspec": {
   "display_name": "Python 3",
   "language": "python",
   "name": "python3"
  },
  "language_info": {
   "codemirror_mode": {
    "name": "ipython",
    "version": 3
   },
   "file_extension": ".py",
   "mimetype": "text/x-python",
   "name": "python",
   "nbconvert_exporter": "python",
   "pygments_lexer": "ipython3",
   "version": "3.8.3"
  }
 },
 "nbformat": 4,
 "nbformat_minor": 4
}
