{
 "cells": [
  {
   "cell_type": "markdown",
   "metadata": {},
   "source": [
    "# Ejercicios sugeridos para variables aleatorias continuas"
   ]
  },
  {
   "cell_type": "markdown",
   "metadata": {},
   "source": [
    "1. Denote la cantidad de tiempo en horas que un libro particular dura prestado dentro de la biblioteca de la universidad. La función de densidad de probabilidad de X está dada por\n",
    "$$\n",
    "f(x) =\n",
    "\\begin{cases}\n",
    "    0.5x + 0.25 &\\quad 1 \\leq x \\leq 2\\\\\n",
    "    0 &\\quad \\text{de otro modo}\n",
    "\\end{cases}\n",
    "$$\n",
    "* Dibuje la función de densidad de probabilidad.<br>\n",
    "* $P(X<1.5)$<br>\n",
    "* $P(1.2<X<1.7)$<br>\n",
    "* ¿Cuál es el tiempo promedio que un libro permanece prestado?"
   ]
  },
  {
   "cell_type": "code",
   "execution_count": 3,
   "metadata": {},
   "outputs": [],
   "source": [
    "import scipy.stats as st\n",
    "import numpy as np\n",
    "import matplotlib.pyplot as plt\n",
    "import seaborn as sns\n",
    "import sympy"
   ]
  },
  {
   "cell_type": "code",
   "execution_count": 2,
   "metadata": {},
   "outputs": [
    {
     "data": {
      "image/png": "[encoded data removed]",
      "text/plain": [
       "<Figure size 432x288 with 1 Axes>"
      ]
     },
     "metadata": {
      "needs_background": "light"
     },
     "output_type": "display_data"
    }
   ],
   "source": [
    "x_plot = np.arange(1, 2, 0.001)\n",
    "y_plot = 0.5*x_plot+0.25\n",
    "plt.plot(x_plot,y_plot)\n",
    "plt.show()"
   ]
  },
  {
   "cell_type": "code",
   "execution_count": 15,
   "metadata": {},
   "outputs": [
    {
     "name": "stdout",
     "output_type": "stream",
     "text": [
      "0.437500000000000\n",
      "0.487500000000000\n",
      "1.54166666666667\n"
     ]
    }
   ],
   "source": [
    "x = sympy.Symbol('x')\n",
    "prob_les_1_5 = sympy.integrate(0.5*x+ 0.25, (x,1,1.5))\n",
    "print(prob_les_1_5)\n",
    "prob_1_2_to_1_7 = sympy.integrate(0.5*x+ 0.25, (x,1.2,1.7))\n",
    "print(prob_1_2_to_1_7)\n",
    "e = sympy.integrate(x*(0.5*x+ 0.25), (x,1,2))\n",
    "print(e)"
   ]
  },
  {
   "cell_type": "markdown",
   "metadata": {},
   "source": [
    "2. La vida útil(en miles de kilómetros) de una llanta es una v.a. cuya fdp está dada por $f(x)=\\frac{1}{30}e^{\\frac{-x}{30}}$ para x>0<br>\n",
    "* Dibuje la función de densidad de probabilidad.<br>\n",
    "* $P(X<15)$<br>\n",
    "* $P(X<20)$<br>\n",
    "* ¿Cuál es la duración promedio de una llanta?<br>\n",
    "* ¿Cuál es la desviación estándar de la duración de una llanta?"
   ]
  },
  {
   "cell_type": "code",
   "execution_count": 19,
   "metadata": {},
   "outputs": [
    {
     "data": {
      "image/png": "[encoded data removed]",
      "text/plain": [
       "<Figure size 432x288 with 1 Axes>"
      ]
     },
     "metadata": {
      "needs_background": "light"
     },
     "output_type": "display_data"
    }
   ],
   "source": [
    "x_plot = np.arange(0, 200, 0.001)\n",
    "y_plot = (1/30)*np.exp(-x_plot/30)\n",
    "plt.plot(x_plot,y_plot)\n",
    "plt.show()"
   ]
  },
  {
   "cell_type": "code",
   "execution_count": 35,
   "metadata": {},
   "outputs": [
    {
     "name": "stdout",
     "output_type": "stream",
     "text": [
      "0.437500000000000\n",
      "1.0*exp(-2/3) = 0.513417119032592\n",
      "30.0000000000000\n",
      "900.000000000000\n",
      "30.0000000000000\n"
     ]
    }
   ],
   "source": [
    "x = sympy.Symbol('x')\n",
    "prob_les_15 = sympy.integrate((1/30)*sympy.exp(-x/30), (x,0,15))\n",
    "print(prob_les_1_5)\n",
    "prob_more_20 = sympy.integrate((1/30)*sympy.exp(-x/30), (x,20, sympy.oo))\n",
    "print('{} = {}'.format(prob_more_20, float(prob_more_20)))\n",
    "e = sympy.integrate(x*(1/30)*sympy.exp(-x/30), (x,0,sympy.oo))\n",
    "print(e)\n",
    "v = sympy.integrate(((x-e)**2)*(1/30)*sympy.exp(-x/30), (x,0,sympy.oo))\n",
    "print(v)\n",
    "std = sympy.sqrt(v)\n",
    "print(std)"
   ]
  },
  {
   "cell_type": "markdown",
   "metadata": {},
   "source": [
    "3. El tiempo necesario para que un estudiante complete un examen de una hora es una variable aleatoria con fdp dada por:<br>\n",
    "$$\n",
    "f(x) =\n",
    "\\begin{cases}\n",
    "    c\\cdot y^2 +y &\\quad 0 \\leq x \\leq 1\\\\\n",
    "    0 &\\quad \\text{de otro punto}\n",
    "\\end{cases}\n",
    "$$\n",
    "* Encuentre el valor de la constante ܿ para que la función sea un fdp.<br>\n",
    "* Encuentre $F(y)$"
   ]
  },
  {
   "cell_type": "code",
   "execution_count": 49,
   "metadata": {},
   "outputs": [
    {
     "name": "stdout",
     "output_type": "stream",
     "text": [
      "[3/2]\n",
      "0.5*y**3 + 0.5*y**2\n"
     ]
    }
   ],
   "source": [
    "y = sympy.Symbol('y')\n",
    "c = sympy.Symbol('c')\n",
    "c_value = sympy.solve(sympy.integrate(c*y**2+y, (y,0,1))-1,c)\n",
    "print(c_value)\n",
    "F = sympy.integrate((3/2)*y**2+y, y)\n",
    "print(F)"
   ]
  },
  {
   "cell_type": "markdown",
   "metadata": {},
   "source": [
    "9. Para medir los conocimientos sobre cierta materia en una misma población, se utilizan dos tipos de pruebas, A y B. Los resultados en ambas tienen distribución normal y la media de los resultados en la prueba A es 78.3 con una desviación estándar de 4.2 puntos. La media de las puntuaciones en la prueba B es 58.1 y su desviación estándar de 3.2 puntos. Una persona ha obtenido 83.1 puntos en la prueba A y otra persona ha conseguido 67.5 en la prueba B. ¿Cuál de las dos personas se encuentra en mejor posición?"
   ]
  },
  {
   "cell_type": "code",
   "execution_count": 56,
   "metadata": {},
   "outputs": [
    {
     "name": "stdout",
     "output_type": "stream",
     "text": [
      "0.873451045526442\n",
      "0.9983456491404525\n"
     ]
    }
   ],
   "source": [
    "print(st.norm(78.3, 4.2).cdf(83.1))\n",
    "print(st.norm(58.1, 3.2).cdf(67.5))"
   ]
  },
  {
   "cell_type": "code",
   "execution_count": null,
   "metadata": {},
   "outputs": [],
   "source": []
  }
 ],
 "metadata": {
  "kernelspec": {
   "display_name": "Python 3",
   "language": "python",
   "name": "python3"
  },
  "language_info": {
   "codemirror_mode": {
    "name": "ipython",
    "version": 3
   },
   "file_extension": ".py",
   "mimetype": "text/x-python",
   "name": "python",
   "nbconvert_exporter": "python",
   "pygments_lexer": "ipython3",
   "version": "3.8.3"
  }
 },
 "nbformat": 4,
 "nbformat_minor": 4
}
